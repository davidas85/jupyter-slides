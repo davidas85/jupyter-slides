{
 "cells": [
  {
   "cell_type": "markdown",
   "metadata": {
    "slideshow": {
     "slide_type": "slide"
    }
   },
   "source": [
    "# Jupyter Notebook and IPython\n",
    "## Where Python meets the Web"
   ]
  },
  {
   "cell_type": "markdown",
   "metadata": {
    "slideshow": {
     "slide_type": "fragment"
    }
   },
   "source": [
    "### Based on:\n",
    "<center>![Cookbook](images/cover-cookbook-2nd.png)</center>\n",
    "http://ipython-books.github.io/"
   ]
  },
  {
   "cell_type": "markdown",
   "metadata": {
    "slideshow": {
     "slide_type": "slide"
    }
   },
   "source": [
    "## First some cheap tricks"
   ]
  },
  {
   "cell_type": "markdown",
   "metadata": {
    "slideshow": {
     "slide_type": "subslide"
    }
   },
   "source": [
    "### Bash Support"
   ]
  },
  {
   "cell_type": "code",
   "execution_count": 1,
   "metadata": {
    "slideshow": {
     "slide_type": "fragment"
    }
   },
   "outputs": [
    {
     "name": "stdout",
     "output_type": "stream",
     "text": [
      "README.md       csvmagic.py     environment.yml lecture.ipynb   workshop.ipynb\r\n",
      "\u001b[34m__pycache__\u001b[m\u001b[m     \u001b[34mdata\u001b[m\u001b[m            \u001b[34mimages\u001b[m\u001b[m          ruby.ipynb\r\n"
     ]
    }
   ],
   "source": [
    "!ls"
   ]
  },
  {
   "cell_type": "markdown",
   "metadata": {
    "slideshow": {
     "slide_type": "subslide"
    }
   },
   "source": [
    "### Line Magics"
   ]
  },
  {
   "cell_type": "code",
   "execution_count": 2,
   "metadata": {
    "slideshow": {
     "slide_type": "fragment"
    }
   },
   "outputs": [
    {
     "data": {
      "application/json": {
       "cell": {
        "!": "OSMagics",
        "HTML": "Other",
        "SVG": "Other",
        "bash": "Other",
        "capture": "ExecutionMagics",
        "debug": "ExecutionMagics",
        "file": "Other",
        "groovy": "GroovyMagics",
        "html": "DisplayMagics",
        "javascript": "DisplayMagics",
        "js": "DisplayMagics",
        "latex": "DisplayMagics",
        "markdown": "DisplayMagics",
        "perl": "Other",
        "prun": "ExecutionMagics",
        "pypy": "Other",
        "python": "Other",
        "python2": "Other",
        "python3": "Other",
        "ruby": "Other",
        "script": "ScriptMagics",
        "sh": "Other",
        "svg": "DisplayMagics",
        "sx": "OSMagics",
        "system": "OSMagics",
        "time": "ExecutionMagics",
        "timeit": "ExecutionMagics",
        "writefile": "OSMagics"
       },
       "line": {
        "alias": "OSMagics",
        "alias_magic": "BasicMagics",
        "autocall": "AutoMagics",
        "automagic": "AutoMagics",
        "autosave": "KernelMagics",
        "bookmark": "OSMagics",
        "cat": "Other",
        "cd": "OSMagics",
        "clear": "KernelMagics",
        "colors": "BasicMagics",
        "config": "ConfigMagics",
        "connect_info": "KernelMagics",
        "cp": "Other",
        "debug": "ExecutionMagics",
        "dhist": "OSMagics",
        "dirs": "OSMagics",
        "doctest_mode": "BasicMagics",
        "ed": "Other",
        "edit": "KernelMagics",
        "env": "OSMagics",
        "gui": "BasicMagics",
        "hist": "Other",
        "history": "HistoryMagics",
        "killbgscripts": "ScriptMagics",
        "ldir": "Other",
        "less": "KernelMagics",
        "lf": "Other",
        "lk": "Other",
        "ll": "Other",
        "load": "CodeMagics",
        "load_ext": "ExtensionMagics",
        "loadpy": "CodeMagics",
        "logoff": "LoggingMagics",
        "logon": "LoggingMagics",
        "logstart": "LoggingMagics",
        "logstate": "LoggingMagics",
        "logstop": "LoggingMagics",
        "ls": "Other",
        "lsmagic": "BasicMagics",
        "lx": "Other",
        "macro": "ExecutionMagics",
        "magic": "BasicMagics",
        "man": "KernelMagics",
        "matplotlib": "PylabMagics",
        "mkdir": "Other",
        "more": "KernelMagics",
        "mv": "Other",
        "notebook": "BasicMagics",
        "page": "BasicMagics",
        "pastebin": "CodeMagics",
        "pdb": "ExecutionMagics",
        "pdef": "NamespaceMagics",
        "pdoc": "NamespaceMagics",
        "pfile": "NamespaceMagics",
        "pinfo": "NamespaceMagics",
        "pinfo2": "NamespaceMagics",
        "pip": "BasicMagics",
        "popd": "OSMagics",
        "pprint": "BasicMagics",
        "precision": "BasicMagics",
        "profile": "BasicMagics",
        "prun": "ExecutionMagics",
        "psearch": "NamespaceMagics",
        "psource": "NamespaceMagics",
        "pushd": "OSMagics",
        "pwd": "OSMagics",
        "pycat": "OSMagics",
        "pylab": "PylabMagics",
        "qtconsole": "KernelMagics",
        "quickref": "BasicMagics",
        "recall": "HistoryMagics",
        "rehashx": "OSMagics",
        "reload_ext": "ExtensionMagics",
        "rep": "Other",
        "rerun": "HistoryMagics",
        "reset": "NamespaceMagics",
        "reset_selective": "NamespaceMagics",
        "rm": "Other",
        "rmdir": "Other",
        "run": "ExecutionMagics",
        "save": "CodeMagics",
        "sc": "OSMagics",
        "set_env": "OSMagics",
        "store": "StoreMagics",
        "sx": "OSMagics",
        "system": "OSMagics",
        "tb": "ExecutionMagics",
        "time": "ExecutionMagics",
        "timeit": "ExecutionMagics",
        "unalias": "OSMagics",
        "unload_ext": "ExtensionMagics",
        "who": "NamespaceMagics",
        "who_ls": "NamespaceMagics",
        "whos": "NamespaceMagics",
        "xdel": "NamespaceMagics",
        "xmode": "BasicMagics"
       }
      },
      "text/plain": [
       "Available line magics:\n",
       "%alias  %alias_magic  %autocall  %automagic  %autosave  %bookmark  %cat  %cd  %clear  %colors  %config  %connect_info  %cp  %debug  %dhist  %dirs  %doctest_mode  %ed  %edit  %env  %gui  %hist  %history  %killbgscripts  %ldir  %less  %lf  %lk  %ll  %load  %load_ext  %loadpy  %logoff  %logon  %logstart  %logstate  %logstop  %ls  %lsmagic  %lx  %macro  %magic  %man  %matplotlib  %mkdir  %more  %mv  %notebook  %page  %pastebin  %pdb  %pdef  %pdoc  %pfile  %pinfo  %pinfo2  %popd  %pprint  %precision  %profile  %prun  %psearch  %psource  %pushd  %pwd  %pycat  %pylab  %qtconsole  %quickref  %recall  %rehashx  %reload_ext  %rep  %rerun  %reset  %reset_selective  %rm  %rmdir  %run  %save  %sc  %set_env  %store  %sx  %system  %tb  %time  %timeit  %unalias  %unload_ext  %who  %who_ls  %whos  %xdel  %xmode\n",
       "\n",
       "Available cell magics:\n",
       "%%!  %%HTML  %%SVG  %%bash  %%capture  %%debug  %%file  %%groovy  %%html  %%javascript  %%js  %%latex  %%markdown  %%perl  %%prun  %%pypy  %%python  %%python2  %%python3  %%ruby  %%script  %%sh  %%svg  %%sx  %%system  %%time  %%timeit  %%writefile\n",
       "\n",
       "Automagic is ON, % prefix IS NOT needed for line magics."
      ]
     },
     "execution_count": 2,
     "metadata": {},
     "output_type": "execute_result"
    }
   ],
   "source": [
    "%lsmagic"
   ]
  },
  {
   "cell_type": "markdown",
   "metadata": {
    "slideshow": {
     "slide_type": "subslide"
    }
   },
   "source": [
    "### Built-in docs"
   ]
  },
  {
   "cell_type": "code",
   "execution_count": 3,
   "metadata": {
    "slideshow": {
     "slide_type": "fragment"
    }
   },
   "outputs": [],
   "source": [
    "%run?"
   ]
  },
  {
   "cell_type": "markdown",
   "metadata": {
    "slideshow": {
     "slide_type": "slide"
    }
   },
   "source": [
    "## We can craft our own magics"
   ]
  },
  {
   "cell_type": "code",
   "execution_count": 4,
   "metadata": {
    "slideshow": {
     "slide_type": "fragment"
    }
   },
   "outputs": [],
   "source": [
    "from IPython.core.magic import (register_line_magic,\n",
    "                                register_cell_magic)"
   ]
  },
  {
   "cell_type": "code",
   "execution_count": 5,
   "metadata": {
    "slideshow": {
     "slide_type": "fragment"
    }
   },
   "outputs": [],
   "source": [
    "@register_line_magic\n",
    "def hello(line):\n",
    "    if line == 'french':\n",
    "        print(\"Salut tout le monde!\")\n",
    "    else:\n",
    "        print(\"Hello world!\")"
   ]
  },
  {
   "cell_type": "code",
   "execution_count": 6,
   "metadata": {
    "slideshow": {
     "slide_type": "subslide"
    }
   },
   "outputs": [
    {
     "name": "stdout",
     "output_type": "stream",
     "text": [
      "Hello world!\n"
     ]
    }
   ],
   "source": [
    "%hello"
   ]
  },
  {
   "cell_type": "code",
   "execution_count": 7,
   "metadata": {
    "slideshow": {
     "slide_type": "fragment"
    }
   },
   "outputs": [
    {
     "name": "stdout",
     "output_type": "stream",
     "text": [
      "Salut tout le monde!\n"
     ]
    }
   ],
   "source": [
    "%hello french"
   ]
  },
  {
   "cell_type": "markdown",
   "metadata": {
    "slideshow": {
     "slide_type": "subslide"
    }
   },
   "source": [
    "### Something a bit more useful"
   ]
  },
  {
   "cell_type": "code",
   "execution_count": 8,
   "metadata": {
    "slideshow": {
     "slide_type": "fragment"
    }
   },
   "outputs": [],
   "source": [
    "import pandas as pd\n",
    "from io import StringIO\n",
    "\n",
    "@register_cell_magic\n",
    "def csv(line, cell):\n",
    "    # We create a string buffer containing the\n",
    "    # contents of the cell.\n",
    "    sio = StringIO(cell)\n",
    "    # We use Pandas' read_csv function to parse\n",
    "    # the CSV string.\n",
    "    return pd.read_csv(sio)"
   ]
  },
  {
   "cell_type": "code",
   "execution_count": 12,
   "metadata": {
    "slideshow": {
     "slide_type": "subslide"
    }
   },
   "outputs": [
    {
     "data": {
      "application/vnd.jupyter.widget-view+json": {
       "model_id": "c2f3cc760c73455897e4d24a600ce3a8",
       "version_major": 2,
       "version_minor": 0
      }
     },
     "metadata": {},
     "output_type": "display_data"
    }
   ],
   "source": [
    "%%csv\n",
    "col1,col2,col3\n",
    "0,1,2\n",
    "3,4,5\n",
    "7,8,9"
   ]
  },
  {
   "cell_type": "code",
   "execution_count": 9,
   "metadata": {},
   "outputs": [],
   "source": [
    "import beakerx"
   ]
  },
  {
   "cell_type": "code",
   "execution_count": 13,
   "metadata": {
    "slideshow": {
     "slide_type": "subslide"
    }
   },
   "outputs": [
    {
     "ename": "AttributeError",
     "evalue": "'function' object has no attribute 'describe'",
     "output_type": "error",
     "traceback": [
      "\u001b[0;31m---------------------------------------------------------------------------\u001b[0m",
      "\u001b[0;31mAttributeError\u001b[0m                            Traceback (most recent call last)",
      "\u001b[0;32m<ipython-input-13-d7e1bcf7ecd5>\u001b[0m in \u001b[0;36m<module>\u001b[0;34m()\u001b[0m\n\u001b[1;32m      1\u001b[0m \u001b[0mdf\u001b[0m \u001b[0;34m=\u001b[0m \u001b[0m_\u001b[0m\u001b[0;34m\u001b[0m\u001b[0m\n\u001b[0;32m----> 2\u001b[0;31m \u001b[0mdf\u001b[0m\u001b[0;34m.\u001b[0m\u001b[0mdescribe\u001b[0m\u001b[0;34m(\u001b[0m\u001b[0;34m)\u001b[0m\u001b[0;34m\u001b[0m\u001b[0m\n\u001b[0m",
      "\u001b[0;31mAttributeError\u001b[0m: 'function' object has no attribute 'describe'"
     ]
    }
   ],
   "source": [
    "df = _\n",
    "df.describe()"
   ]
  },
  {
   "cell_type": "markdown",
   "metadata": {
    "slideshow": {
     "slide_type": "subslide"
    }
   },
   "source": [
    "### We can also package magics"
   ]
  },
  {
   "cell_type": "code",
   "execution_count": 14,
   "metadata": {
    "slideshow": {
     "slide_type": "fragment"
    }
   },
   "outputs": [
    {
     "name": "stdout",
     "output_type": "stream",
     "text": [
      "Overwriting csvmagic.py\n"
     ]
    }
   ],
   "source": [
    "%%writefile csvmagic.py\n",
    "import pandas as pd\n",
    "from io import StringIO\n",
    "\n",
    "def csv(line, cell):\n",
    "    sio = StringIO(cell)\n",
    "    return pd.read_csv(sio)\n",
    "\n",
    "def load_ipython_extension(ipython):\n",
    "    \"\"\"This function is called when the extension is\n",
    "    loaded. It accepts an IPython InteractiveShell\n",
    "    instance. We can register the magic with the\n",
    "    `register_magic_function` method of the shell\n",
    "    instance.\"\"\"\n",
    "    ipython.register_magic_function(csv, 'cell')"
   ]
  },
  {
   "cell_type": "code",
   "execution_count": 15,
   "metadata": {
    "slideshow": {
     "slide_type": "subslide"
    }
   },
   "outputs": [],
   "source": [
    "%load_ext csvmagic"
   ]
  },
  {
   "cell_type": "code",
   "execution_count": 16,
   "metadata": {
    "slideshow": {
     "slide_type": "fragment"
    }
   },
   "outputs": [
    {
     "data": {
      "application/vnd.jupyter.widget-view+json": {
       "model_id": "612f24936d12494bb4b0d3de184cec03",
       "version_major": 2,
       "version_minor": 0
      }
     },
     "metadata": {},
     "output_type": "display_data"
    }
   ],
   "source": [
    "%%csv\n",
    "col1,col2,col3\n",
    "0,1,2\n",
    "3,4,5\n",
    "7,8,9"
   ]
  },
  {
   "cell_type": "markdown",
   "metadata": {
    "slideshow": {
     "slide_type": "slide"
    }
   },
   "source": [
    "## Wait, we're in a browser"
   ]
  },
  {
   "cell_type": "code",
   "execution_count": 17,
   "metadata": {
    "slideshow": {
     "slide_type": "subslide"
    }
   },
   "outputs": [
    {
     "data": {
      "text/html": [
       "\n",
       "<table style=\"border: 2px solid black;\">\n",
       "<tr><td>0,0</td><td>0,1</td><td>0,2</td><td>0,3</td><td>0,4</td></tr><tr><td>1,0</td><td>1,1</td><td>1,2</td><td>1,3</td><td>1,4</td></tr><tr><td>2,0</td><td>2,1</td><td>2,2</td><td>2,3</td><td>2,4</td></tr><tr><td>3,0</td><td>3,1</td><td>3,2</td><td>3,3</td><td>3,4</td></tr><tr><td>4,0</td><td>4,1</td><td>4,2</td><td>4,3</td><td>4,4</td></tr>\n",
       "</table>\n"
      ],
      "text/plain": [
       "<IPython.core.display.HTML object>"
      ]
     },
     "execution_count": 17,
     "metadata": {},
     "output_type": "execute_result"
    }
   ],
   "source": [
    "from IPython.display import HTML\n",
    "HTML('''\n",
    "<table style=\"border: 2px solid black;\">\n",
    "''' +\n",
    "     ''.join(['<tr>' +\n",
    "              ''.join([f'<td>{row},{col}</td>'\n",
    "                       for col in range(5)]) +\n",
    "              '</tr>' for row in range(5)]) +\n",
    "     '''\n",
    "</table>\n",
    "''')"
   ]
  },
  {
   "cell_type": "code",
   "execution_count": 18,
   "metadata": {
    "slideshow": {
     "slide_type": "subslide"
    }
   },
   "outputs": [
    {
     "data": {
      "image/svg+xml": [
       "<svg height=\"80\" width=\"600\"><circle cx=\"300\" cy=\"30\" fill=\"red\" r=\"0.0\" stroke=\"black\" stroke-width=\"2\">\n",
       "        </circle><circle cx=\"297\" cy=\"30\" fill=\"red\" r=\"3.0\" stroke=\"black\" stroke-width=\"2\">\n",
       "        </circle><circle cx=\"288\" cy=\"30\" fill=\"red\" r=\"6.0\" stroke=\"black\" stroke-width=\"2\">\n",
       "        </circle><circle cx=\"273\" cy=\"30\" fill=\"red\" r=\"9.0\" stroke=\"black\" stroke-width=\"2\">\n",
       "        </circle><circle cx=\"252\" cy=\"30\" fill=\"red\" r=\"12.0\" stroke=\"black\" stroke-width=\"2\">\n",
       "        </circle><circle cx=\"225\" cy=\"30\" fill=\"red\" r=\"15.0\" stroke=\"black\" stroke-width=\"2\">\n",
       "        </circle><circle cx=\"192\" cy=\"30\" fill=\"red\" r=\"18.0\" stroke=\"black\" stroke-width=\"2\">\n",
       "        </circle><circle cx=\"153\" cy=\"30\" fill=\"red\" r=\"21.0\" stroke=\"black\" stroke-width=\"2\">\n",
       "        </circle><circle cx=\"108\" cy=\"30\" fill=\"red\" r=\"24.0\" stroke=\"black\" stroke-width=\"2\">\n",
       "        </circle><circle cx=\"57\" cy=\"30\" fill=\"red\" r=\"27.0\" stroke=\"black\" stroke-width=\"2\">\n",
       "        </circle></svg>"
      ],
      "text/plain": [
       "<IPython.core.display.SVG object>"
      ]
     },
     "execution_count": 18,
     "metadata": {},
     "output_type": "execute_result"
    }
   ],
   "source": [
    "from IPython.display import SVG\n",
    "SVG('''<svg width=\"600\" height=\"80\">''' +\n",
    "    ''.join([f'''<circle\n",
    "              cx=\"{(30 + 3*i) * (10 - i)}\"\n",
    "              cy=\"30\"\n",
    "              r=\"{3. * float(i)}\"\n",
    "              fill=\"red\"\n",
    "              stroke-width=\"2\"\n",
    "              stroke=\"black\">\n",
    "        </circle>''' for i in range(10)]) +\n",
    "    '''</svg>''')"
   ]
  },
  {
   "cell_type": "code",
   "execution_count": 19,
   "metadata": {
    "slideshow": {
     "slide_type": "subslide"
    }
   },
   "outputs": [
    {
     "data": {
      "image/jpeg": "[encoded data removed]",
      "text/html": [
       "\n",
       "        <iframe\n",
       "            width=\"400\"\n",
       "            height=\"300\"\n",
       "            src=\"https://www.youtube.com/embed/VQBZ2MqWBZI\"\n",
       "            frameborder=\"0\"\n",
       "            allowfullscreen\n",
       "        ></iframe>\n",
       "        "
      ],
      "text/plain": [
       "<IPython.lib.display.YouTubeVideo at 0x11515e438>"
      ]
     },
     "execution_count": 19,
     "metadata": {},
     "output_type": "execute_result"
    }
   ],
   "source": [
    "from IPython.display import YouTubeVideo\n",
    "YouTubeVideo('VQBZ2MqWBZI')"
   ]
  },
  {
   "cell_type": "markdown",
   "metadata": {
    "slideshow": {
     "slide_type": "slide"
    }
   },
   "source": [
    "## And we have the best Data Analysis tools"
   ]
  },
  {
   "cell_type": "code",
   "execution_count": 20,
   "metadata": {
    "slideshow": {
     "slide_type": "fragment"
    }
   },
   "outputs": [],
   "source": [
    "import numpy as np\n",
    "import pandas as pd\n",
    "import matplotlib.pyplot as plt\n",
    "%matplotlib inline"
   ]
  },
  {
   "cell_type": "markdown",
   "metadata": {
    "slideshow": {
     "slide_type": "subslide"
    }
   },
   "source": [
    "### So let's use them"
   ]
  },
  {
   "cell_type": "code",
   "execution_count": 21,
   "metadata": {
    "slideshow": {
     "slide_type": "fragment"
    }
   },
   "outputs": [],
   "source": [
    "url = (\"https://raw.githubusercontent.com/\"\n",
    "       \"ipython-books/cookbook-2nd-data/\"\n",
    "       \"master/bikes.csv\")\n",
    "# url = 'data/comptagesvelo2015.csv'"
   ]
  },
  {
   "cell_type": "code",
   "execution_count": 22,
   "metadata": {
    "slideshow": {
     "slide_type": "fragment"
    }
   },
   "outputs": [],
   "source": [
    "df = pd.read_csv(url, index_col='Date',\n",
    "                 parse_dates=True, dayfirst=True)"
   ]
  },
  {
   "cell_type": "code",
   "execution_count": 23,
   "metadata": {
    "slideshow": {
     "slide_type": "fragment"
    }
   },
   "outputs": [
    {
     "data": {
      "application/vnd.jupyter.widget-view+json": {
       "model_id": "75588067262d4b9799fa16610786579f",
       "version_major": 2,
       "version_minor": 0
      }
     },
     "metadata": {},
     "output_type": "display_data"
    }
   ],
   "source": [
    "df.head(2)"
   ]
  },
  {
   "cell_type": "code",
   "execution_count": 24,
   "metadata": {
    "slideshow": {
     "slide_type": "subslide"
    }
   },
   "outputs": [
    {
     "data": {
      "application/vnd.jupyter.widget-view+json": {
       "model_id": "3dd9279cae7940f38fe9e940eb30b7d4",
       "version_major": 2,
       "version_minor": 0
      }
     },
     "metadata": {},
     "output_type": "display_data"
    }
   ],
   "source": [
    "df.describe()"
   ]
  },
  {
   "cell_type": "markdown",
   "metadata": {
    "slideshow": {
     "slide_type": "subslide"
    }
   },
   "source": [
    "### Simple plotting"
   ]
  },
  {
   "cell_type": "code",
   "execution_count": 26,
   "metadata": {},
   "outputs": [],
   "source": [
    "import seaborn as sns; sns.set()"
   ]
  },
  {
   "cell_type": "code",
   "execution_count": 27,
   "metadata": {
    "slideshow": {
     "slide_type": "fragment"
    }
   },
   "outputs": [
    {
     "data": {
      "text/plain": [
       "<matplotlib.axes._subplots.AxesSubplot at 0x1a23f274e0>"
      ]
     },
     "execution_count": 27,
     "metadata": {},
     "output_type": "execute_result"
    },
    {
     "data": {
      "image/png": "[encoded data removed]",
      "text/plain": [
       "<Figure size 720x432 with 1 Axes>"
      ]
     },
     "metadata": {},
     "output_type": "display_data"
    }
   ],
   "source": [
    "df[['Berri1', 'PierDup']].plot(figsize=(10, 6),\n",
    "                               style=['-', '--'],\n",
    "                               lw=2)"
   ]
  },
  {
   "cell_type": "markdown",
   "metadata": {
    "slideshow": {
     "slide_type": "subslide"
    }
   },
   "source": [
    "### Time-series analysis"
   ]
  },
  {
   "cell_type": "code",
   "execution_count": 28,
   "metadata": {
    "slideshow": {
     "slide_type": "fragment"
    }
   },
   "outputs": [
    {
     "data": {
      "text/plain": [
       "Index(['Tuesday', 'Wednesday', 'Thursday', 'Friday', 'Saturday', 'Sunday',\n",
       "       'Monday', 'Tuesday', 'Wednesday', 'Thursday',\n",
       "       ...\n",
       "       'Monday', 'Tuesday', 'Wednesday', 'Thursday', 'Friday', 'Saturday',\n",
       "       'Sunday', 'Monday', 'Tuesday', 'Wednesday'],\n",
       "      dtype='object', name='Date', length=261)"
      ]
     },
     "execution_count": 28,
     "metadata": {},
     "output_type": "execute_result"
    }
   ],
   "source": [
    "df.index.weekday_name"
   ]
  },
  {
   "cell_type": "code",
   "execution_count": 29,
   "metadata": {
    "slideshow": {
     "slide_type": "fragment"
    }
   },
   "outputs": [],
   "source": [
    "df_week = df.groupby(df.index.weekday).sum()"
   ]
  },
  {
   "cell_type": "code",
   "execution_count": 30,
   "metadata": {
    "slideshow": {
     "slide_type": "subslide"
    }
   },
   "outputs": [
    {
     "data": {
      "application/vnd.jupyter.widget-view+json": {
       "model_id": "fe071e45a12044c39241f7a936e4a3d3",
       "version_major": 2,
       "version_minor": 0
      }
     },
     "metadata": {},
     "output_type": "display_data"
    }
   ],
   "source": [
    "df_week"
   ]
  },
  {
   "cell_type": "code",
   "execution_count": 31,
   "metadata": {
    "slideshow": {
     "slide_type": "subslide"
    }
   },
   "outputs": [
    {
     "data": {
      "text/plain": [
       "(0, 151791.7)"
      ]
     },
     "execution_count": 31,
     "metadata": {},
     "output_type": "execute_result"
    },
    {
     "data": {
      "image/png": "[encoded data removed]",
      "text/plain": [
       "<Figure size 720x576 with 1 Axes>"
      ]
     },
     "metadata": {},
     "output_type": "display_data"
    }
   ],
   "source": [
    "fig, ax = plt.subplots(1, 1, figsize=(10, 8))\n",
    "df_week.plot(style='-o', lw=3, ax=ax)\n",
    "ax.set_xlabel('Weekday')\n",
    "# We replace the labels 0, 1, 2... by the weekday names.\n",
    "ax.set_xticklabels(\n",
    "    ('Monday,Tuesday,Wednesday,Thursday,'\n",
    "     'Friday,Saturday,Sunday').split(','))\n",
    "ax.set_ylim(0)  # Set the bottom axis to 0."
   ]
  },
  {
   "cell_type": "markdown",
   "metadata": {
    "slideshow": {
     "slide_type": "subslide"
    }
   },
   "source": [
    "### Some human interaction"
   ]
  },
  {
   "cell_type": "code",
   "execution_count": 32,
   "metadata": {
    "scrolled": true,
    "slideshow": {
     "slide_type": "fragment"
    }
   },
   "outputs": [
    {
     "data": {
      "application/vnd.jupyter.widget-view+json": {
       "model_id": "ddf004beb12b48e4802e1a3227cda5ac",
       "version_major": 2,
       "version_minor": 0
      },
      "text/html": [
       "<p>Failed to display Jupyter Widget of type <code>interactive</code>.</p>\n",
       "<p>\n",
       "  If you're reading this message in the Jupyter Notebook or JupyterLab Notebook, it may mean\n",
       "  that the widgets JavaScript is still loading. If this message persists, it\n",
       "  likely means that the widgets JavaScript library is either not installed or\n",
       "  not enabled. See the <a href=\"https://ipywidgets.readthedocs.io/en/stable/user_install.html\">Jupyter\n",
       "  Widgets Documentation</a> for setup instructions.\n",
       "</p>\n",
       "<p>\n",
       "  If you're reading this message in another frontend (for example, a static\n",
       "  rendering on GitHub or <a href=\"https://nbviewer.jupyter.org/\">NBViewer</a>),\n",
       "  it may mean that your frontend doesn't currently support widgets.\n",
       "</p>\n"
      ],
      "text/plain": [
       "interactive(children=(IntSlider(value=15, description='n', max=30, min=1), Output()), _dom_classes=('widget-interact',))"
      ]
     },
     "metadata": {},
     "output_type": "display_data"
    }
   ],
   "source": [
    "from ipywidgets import interact\n",
    "\n",
    "@interact\n",
    "def plot(n=(1, 30)):\n",
    "    fig, ax = plt.subplots(1, 1, figsize=(10, 8))\n",
    "    df['Berri1'].rolling(window=n).mean().plot(ax=ax)\n",
    "    ax.set_ylim(0, 7000)\n",
    "    plt.show()"
   ]
  },
  {
   "cell_type": "markdown",
   "metadata": {
    "slideshow": {
     "slide_type": "slide"
    }
   },
   "source": [
    "## Re-using web frameworks"
   ]
  },
  {
   "cell_type": "code",
   "execution_count": 33,
   "metadata": {
    "slideshow": {
     "slide_type": "fragment"
    }
   },
   "outputs": [
    {
     "data": {
      "text/html": [
       "\n",
       "    <div class=\"bk-root\">\n",
       "        <a href=\"https://bokeh.pydata.org\" target=\"_blank\" class=\"bk-logo bk-logo-small bk-logo-notebook\"></a>\n",
       "        <span id=\"6a6dc36f-8804-4427-8de6-16785747ed6a\">Loading BokehJS ...</span>\n",
       "    </div>"
      ]
     },
     "metadata": {},
     "output_type": "display_data"
    },
    {
     "data": {
      "application/javascript": [
       "\n",
       "(function(root) {\n",
       "  function now() {\n",
       "    return new Date();\n",
       "  }\n",
       "\n",
       "  var force = true;\n",
       "\n",
       "  if (typeof (root._bokeh_onload_callbacks) === \"undefined\" || force === true) {\n",
       "    root._bokeh_onload_callbacks = [];\n",
       "    root._bokeh_is_loading = undefined;\n",
       "  }\n",
       "\n",
       "  var JS_MIME_TYPE = 'application/javascript';\n",
       "  var HTML_MIME_TYPE = 'text/html';\n",
       "  var EXEC_MIME_TYPE = 'application/vnd.bokehjs_exec.v0+json';\n",
       "  var CLASS_NAME = 'output_bokeh rendered_html';\n",
       "\n",
       "  /**\n",
       "   * Render data to the DOM node\n",
       "   */\n",
       "  function render(props, node) {\n",
       "    var script = document.createElement(\"script\");\n",
       "    node.appendChild(script);\n",
       "  }\n",
       "\n",
       "  /**\n",
       "   * Handle when an output is cleared or removed\n",
       "   */\n",
       "  function handleClearOutput(event, handle) {\n",
       "    var cell = handle.cell;\n",
       "\n",
       "    var id = cell.output_area._bokeh_element_id;\n",
       "    var server_id = cell.output_area._bokeh_server_id;\n",
       "    // Clean up Bokeh references\n",
       "    if (id !== undefined) {\n",
       "      Bokeh.index[id].model.document.clear();\n",
       "      delete Bokeh.index[id];\n",
       "    }\n",
       "\n",
       "    if (server_id !== undefined) {\n",
       "      // Clean up Bokeh references\n",
       "      var cmd = \"from bokeh.io.state import curstate; print(curstate().uuid_to_server['\" + server_id + \"'].get_sessions()[0].document.roots[0]._id)\";\n",
       "      cell.notebook.kernel.execute(cmd, {\n",
       "        iopub: {\n",
       "          output: function(msg) {\n",
       "            var element_id = msg.content.text.trim();\n",
       "            Bokeh.index[element_id].model.document.clear();\n",
       "            delete Bokeh.index[element_id];\n",
       "          }\n",
       "        }\n",
       "      });\n",
       "      // Destroy server and session\n",
       "      var cmd = \"import bokeh.io.notebook as ion; ion.destroy_server('\" + server_id + \"')\";\n",
       "      cell.notebook.kernel.execute(cmd);\n",
       "    }\n",
       "  }\n",
       "\n",
       "  /**\n",
       "   * Handle when a new output is added\n",
       "   */\n",
       "  function handleAddOutput(event, handle) {\n",
       "    var output_area = handle.output_area;\n",
       "    var output = handle.output;\n",
       "\n",
       "    // limit handleAddOutput to display_data with EXEC_MIME_TYPE content only\n",
       "    if ((output.output_type != \"display_data\") || (!output.data.hasOwnProperty(EXEC_MIME_TYPE))) {\n",
       "      return\n",
       "    }\n",
       "\n",
       "    var toinsert = output_area.element.find(\".\" + CLASS_NAME.split(' ')[0]);\n",
       "\n",
       "    if (output.metadata[EXEC_MIME_TYPE][\"id\"] !== undefined) {\n",
       "      toinsert[0].firstChild.textContent = output.data[JS_MIME_TYPE];\n",
       "      // store reference to embed id on output_area\n",
       "      output_area._bokeh_element_id = output.metadata[EXEC_MIME_TYPE][\"id\"];\n",
       "    }\n",
       "    if (output.metadata[EXEC_MIME_TYPE][\"server_id\"] !== undefined) {\n",
       "      var bk_div = document.createElement(\"div\");\n",
       "      bk_div.innerHTML = output.data[HTML_MIME_TYPE];\n",
       "      var script_attrs = bk_div.children[0].attributes;\n",
       "      for (var i = 0; i < script_attrs.length; i++) {\n",
       "        toinsert[0].firstChild.setAttribute(script_attrs[i].name, script_attrs[i].value);\n",
       "      }\n",
       "      // store reference to server id on output_area\n",
       "      output_area._bokeh_server_id = output.metadata[EXEC_MIME_TYPE][\"server_id\"];\n",
       "    }\n",
       "  }\n",
       "\n",
       "  function register_renderer(events, OutputArea) {\n",
       "\n",
       "    function append_mime(data, metadata, element) {\n",
       "      // create a DOM node to render to\n",
       "      var toinsert = this.create_output_subarea(\n",
       "        metadata,\n",
       "        CLASS_NAME,\n",
       "        EXEC_MIME_TYPE\n",
       "      );\n",
       "      this.keyboard_manager.register_events(toinsert);\n",
       "      // Render to node\n",
       "      var props = {data: data, metadata: metadata[EXEC_MIME_TYPE]};\n",
       "      render(props, toinsert[0]);\n",
       "      element.append(toinsert);\n",
       "      return toinsert\n",
       "    }\n",
       "\n",
       "    /* Handle when an output is cleared or removed */\n",
       "    events.on('clear_output.CodeCell', handleClearOutput);\n",
       "    events.on('delete.Cell', handleClearOutput);\n",
       "\n",
       "    /* Handle when a new output is added */\n",
       "    events.on('output_added.OutputArea', handleAddOutput);\n",
       "\n",
       "    /**\n",
       "     * Register the mime type and append_mime function with output_area\n",
       "     */\n",
       "    OutputArea.prototype.register_mime_type(EXEC_MIME_TYPE, append_mime, {\n",
       "      /* Is output safe? */\n",
       "      safe: true,\n",
       "      /* Index of renderer in `output_area.display_order` */\n",
       "      index: 0\n",
       "    });\n",
       "  }\n",
       "\n",
       "  // register the mime type if in Jupyter Notebook environment and previously unregistered\n",
       "  if (root.Jupyter !== undefined) {\n",
       "    var events = require('base/js/events');\n",
       "    var OutputArea = require('notebook/js/outputarea').OutputArea;\n",
       "\n",
       "    if (OutputArea.prototype.mime_types().indexOf(EXEC_MIME_TYPE) == -1) {\n",
       "      register_renderer(events, OutputArea);\n",
       "    }\n",
       "  }\n",
       "\n",
       "  \n",
       "  if (typeof (root._bokeh_timeout) === \"undefined\" || force === true) {\n",
       "    root._bokeh_timeout = Date.now() + 5000;\n",
       "    root._bokeh_failed_load = false;\n",
       "  }\n",
       "\n",
       "  var NB_LOAD_WARNING = {'data': {'text/html':\n",
       "     \"<div style='background-color: #fdd'>\\n\"+\n",
       "     \"<p>\\n\"+\n",
       "     \"BokehJS does not appear to have successfully loaded. If loading BokehJS from CDN, this \\n\"+\n",
       "     \"may be due to a slow or bad network connection. Possible fixes:\\n\"+\n",
       "     \"</p>\\n\"+\n",
       "     \"<ul>\\n\"+\n",
       "     \"<li>re-rerun `output_notebook()` to attempt to load from CDN again, or</li>\\n\"+\n",
       "     \"<li>use INLINE resources instead, as so:</li>\\n\"+\n",
       "     \"</ul>\\n\"+\n",
       "     \"<code>\\n\"+\n",
       "     \"from bokeh.resources import INLINE\\n\"+\n",
       "     \"output_notebook(resources=INLINE)\\n\"+\n",
       "     \"</code>\\n\"+\n",
       "     \"</div>\"}};\n",
       "\n",
       "  function display_loaded() {\n",
       "    var el = document.getElementById(\"6a6dc36f-8804-4427-8de6-16785747ed6a\");\n",
       "    if (el != null) {\n",
       "      el.textContent = \"BokehJS is loading...\";\n",
       "    }\n",
       "    if (root.Bokeh !== undefined) {\n",
       "      if (el != null) {\n",
       "        el.textContent = \"BokehJS \" + root.Bokeh.version + \" successfully loaded.\";\n",
       "      }\n",
       "    } else if (Date.now() < root._bokeh_timeout) {\n",
       "      setTimeout(display_loaded, 100)\n",
       "    }\n",
       "  }\n",
       "\n",
       "\n",
       "  function run_callbacks() {\n",
       "    try {\n",
       "      root._bokeh_onload_callbacks.forEach(function(callback) { callback() });\n",
       "    }\n",
       "    finally {\n",
       "      delete root._bokeh_onload_callbacks\n",
       "    }\n",
       "    console.info(\"Bokeh: all callbacks have finished\");\n",
       "  }\n",
       "\n",
       "  function load_libs(js_urls, callback) {\n",
       "    root._bokeh_onload_callbacks.push(callback);\n",
       "    if (root._bokeh_is_loading > 0) {\n",
       "      console.log(\"Bokeh: BokehJS is being loaded, scheduling callback at\", now());\n",
       "      return null;\n",
       "    }\n",
       "    if (js_urls == null || js_urls.length === 0) {\n",
       "      run_callbacks();\n",
       "      return null;\n",
       "    }\n",
       "    console.log(\"Bokeh: BokehJS not loaded, scheduling load and callback at\", now());\n",
       "    root._bokeh_is_loading = js_urls.length;\n",
       "    for (var i = 0; i < js_urls.length; i++) {\n",
       "      var url = js_urls[i];\n",
       "      var s = document.createElement('script');\n",
       "      s.src = url;\n",
       "      s.async = false;\n",
       "      s.onreadystatechange = s.onload = function() {\n",
       "        root._bokeh_is_loading--;\n",
       "        if (root._bokeh_is_loading === 0) {\n",
       "          console.log(\"Bokeh: all BokehJS libraries loaded\");\n",
       "          run_callbacks()\n",
       "        }\n",
       "      };\n",
       "      s.onerror = function() {\n",
       "        console.warn(\"failed to load library \" + url);\n",
       "      };\n",
       "      console.log(\"Bokeh: injecting script tag for BokehJS library: \", url);\n",
       "      document.getElementsByTagName(\"head\")[0].appendChild(s);\n",
       "    }\n",
       "  };var element = document.getElementById(\"6a6dc36f-8804-4427-8de6-16785747ed6a\");\n",
       "  if (element == null) {\n",
       "    console.log(\"Bokeh: ERROR: autoload.js configured with elementid '6a6dc36f-8804-4427-8de6-16785747ed6a' but no matching script tag was found. \")\n",
       "    return false;\n",
       "  }\n",
       "\n",
       "  var js_urls = [\"https://cdn.pydata.org/bokeh/release/bokeh-0.12.14.min.js\", \"https://cdn.pydata.org/bokeh/release/bokeh-widgets-0.12.14.min.js\", \"https://cdn.pydata.org/bokeh/release/bokeh-tables-0.12.14.min.js\", \"https://cdn.pydata.org/bokeh/release/bokeh-gl-0.12.14.min.js\"];\n",
       "\n",
       "  var inline_js = [\n",
       "    function(Bokeh) {\n",
       "      Bokeh.set_log_level(\"info\");\n",
       "    },\n",
       "    \n",
       "    function(Bokeh) {\n",
       "      \n",
       "    },\n",
       "    function(Bokeh) {\n",
       "      console.log(\"Bokeh: injecting CSS: https://cdn.pydata.org/bokeh/release/bokeh-0.12.14.min.css\");\n",
       "      Bokeh.embed.inject_css(\"https://cdn.pydata.org/bokeh/release/bokeh-0.12.14.min.css\");\n",
       "      console.log(\"Bokeh: injecting CSS: https://cdn.pydata.org/bokeh/release/bokeh-widgets-0.12.14.min.css\");\n",
       "      Bokeh.embed.inject_css(\"https://cdn.pydata.org/bokeh/release/bokeh-widgets-0.12.14.min.css\");\n",
       "      console.log(\"Bokeh: injecting CSS: https://cdn.pydata.org/bokeh/release/bokeh-tables-0.12.14.min.css\");\n",
       "      Bokeh.embed.inject_css(\"https://cdn.pydata.org/bokeh/release/bokeh-tables-0.12.14.min.css\");\n",
       "    }\n",
       "  ];\n",
       "\n",
       "  function run_inline_js() {\n",
       "    \n",
       "    if ((root.Bokeh !== undefined) || (force === true)) {\n",
       "      for (var i = 0; i < inline_js.length; i++) {\n",
       "        inline_js[i].call(root, root.Bokeh);\n",
       "      }if (force === true) {\n",
       "        display_loaded();\n",
       "      }} else if (Date.now() < root._bokeh_timeout) {\n",
       "      setTimeout(run_inline_js, 100);\n",
       "    } else if (!root._bokeh_failed_load) {\n",
       "      console.log(\"Bokeh: BokehJS failed to load within specified timeout.\");\n",
       "      root._bokeh_failed_load = true;\n",
       "    } else if (force !== true) {\n",
       "      var cell = $(document.getElementById(\"6a6dc36f-8804-4427-8de6-16785747ed6a\")).parents('.cell').data().cell;\n",
       "      cell.output_area.append_execute_result(NB_LOAD_WARNING)\n",
       "    }\n",
       "\n",
       "  }\n",
       "\n",
       "  if (root._bokeh_is_loading === 0) {\n",
       "    console.log(\"Bokeh: BokehJS loaded, going straight to plotting\");\n",
       "    run_inline_js();\n",
       "  } else {\n",
       "    load_libs(js_urls, function() {\n",
       "      console.log(\"Bokeh: BokehJS plotting callback run at\", now());\n",
       "      run_inline_js();\n",
       "    });\n",
       "  }\n",
       "}(window));"
      ],
      "application/vnd.bokehjs_load.v0+json": "\n(function(root) {\n  function now() {\n    return new Date();\n  }\n\n  var force = true;\n\n  if (typeof (root._bokeh_onload_callbacks) === \"undefined\" || force === true) {\n    root._bokeh_onload_callbacks = [];\n    root._bokeh_is_loading = undefined;\n  }\n\n  \n\n  \n  if (typeof (root._bokeh_timeout) === \"undefined\" || force === true) {\n    root._bokeh_timeout = Date.now() + 5000;\n    root._bokeh_failed_load = false;\n  }\n\n  var NB_LOAD_WARNING = {'data': {'text/html':\n     \"<div style='background-color: #fdd'>\\n\"+\n     \"<p>\\n\"+\n     \"BokehJS does not appear to have successfully loaded. If loading BokehJS from CDN, this \\n\"+\n     \"may be due to a slow or bad network connection. Possible fixes:\\n\"+\n     \"</p>\\n\"+\n     \"<ul>\\n\"+\n     \"<li>re-rerun `output_notebook()` to attempt to load from CDN again, or</li>\\n\"+\n     \"<li>use INLINE resources instead, as so:</li>\\n\"+\n     \"</ul>\\n\"+\n     \"<code>\\n\"+\n     \"from bokeh.resources import INLINE\\n\"+\n     \"output_notebook(resources=INLINE)\\n\"+\n     \"</code>\\n\"+\n     \"</div>\"}};\n\n  function display_loaded() {\n    var el = document.getElementById(\"6a6dc36f-8804-4427-8de6-16785747ed6a\");\n    if (el != null) {\n      el.textContent = \"BokehJS is loading...\";\n    }\n    if (root.Bokeh !== undefined) {\n      if (el != null) {\n        el.textContent = \"BokehJS \" + root.Bokeh.version + \" successfully loaded.\";\n      }\n    } else if (Date.now() < root._bokeh_timeout) {\n      setTimeout(display_loaded, 100)\n    }\n  }\n\n\n  function run_callbacks() {\n    try {\n      root._bokeh_onload_callbacks.forEach(function(callback) { callback() });\n    }\n    finally {\n      delete root._bokeh_onload_callbacks\n    }\n    console.info(\"Bokeh: all callbacks have finished\");\n  }\n\n  function load_libs(js_urls, callback) {\n    root._bokeh_onload_callbacks.push(callback);\n    if (root._bokeh_is_loading > 0) {\n      console.log(\"Bokeh: BokehJS is being loaded, scheduling callback at\", now());\n      return null;\n    }\n    if (js_urls == null || js_urls.length === 0) {\n      run_callbacks();\n      return null;\n    }\n    console.log(\"Bokeh: BokehJS not loaded, scheduling load and callback at\", now());\n    root._bokeh_is_loading = js_urls.length;\n    for (var i = 0; i < js_urls.length; i++) {\n      var url = js_urls[i];\n      var s = document.createElement('script');\n      s.src = url;\n      s.async = false;\n      s.onreadystatechange = s.onload = function() {\n        root._bokeh_is_loading--;\n        if (root._bokeh_is_loading === 0) {\n          console.log(\"Bokeh: all BokehJS libraries loaded\");\n          run_callbacks()\n        }\n      };\n      s.onerror = function() {\n        console.warn(\"failed to load library \" + url);\n      };\n      console.log(\"Bokeh: injecting script tag for BokehJS library: \", url);\n      document.getElementsByTagName(\"head\")[0].appendChild(s);\n    }\n  };var element = document.getElementById(\"6a6dc36f-8804-4427-8de6-16785747ed6a\");\n  if (element == null) {\n    console.log(\"Bokeh: ERROR: autoload.js configured with elementid '6a6dc36f-8804-4427-8de6-16785747ed6a' but no matching script tag was found. \")\n    return false;\n  }\n\n  var js_urls = [\"https://cdn.pydata.org/bokeh/release/bokeh-0.12.14.min.js\", \"https://cdn.pydata.org/bokeh/release/bokeh-widgets-0.12.14.min.js\", \"https://cdn.pydata.org/bokeh/release/bokeh-tables-0.12.14.min.js\", \"https://cdn.pydata.org/bokeh/release/bokeh-gl-0.12.14.min.js\"];\n\n  var inline_js = [\n    function(Bokeh) {\n      Bokeh.set_log_level(\"info\");\n    },\n    \n    function(Bokeh) {\n      \n    },\n    function(Bokeh) {\n      console.log(\"Bokeh: injecting CSS: https://cdn.pydata.org/bokeh/release/bokeh-0.12.14.min.css\");\n      Bokeh.embed.inject_css(\"https://cdn.pydata.org/bokeh/release/bokeh-0.12.14.min.css\");\n      console.log(\"Bokeh: injecting CSS: https://cdn.pydata.org/bokeh/release/bokeh-widgets-0.12.14.min.css\");\n      Bokeh.embed.inject_css(\"https://cdn.pydata.org/bokeh/release/bokeh-widgets-0.12.14.min.css\");\n      console.log(\"Bokeh: injecting CSS: https://cdn.pydata.org/bokeh/release/bokeh-tables-0.12.14.min.css\");\n      Bokeh.embed.inject_css(\"https://cdn.pydata.org/bokeh/release/bokeh-tables-0.12.14.min.css\");\n    }\n  ];\n\n  function run_inline_js() {\n    \n    if ((root.Bokeh !== undefined) || (force === true)) {\n      for (var i = 0; i < inline_js.length; i++) {\n        inline_js[i].call(root, root.Bokeh);\n      }if (force === true) {\n        display_loaded();\n      }} else if (Date.now() < root._bokeh_timeout) {\n      setTimeout(run_inline_js, 100);\n    } else if (!root._bokeh_failed_load) {\n      console.log(\"Bokeh: BokehJS failed to load within specified timeout.\");\n      root._bokeh_failed_load = true;\n    } else if (force !== true) {\n      var cell = $(document.getElementById(\"6a6dc36f-8804-4427-8de6-16785747ed6a\")).parents('.cell').data().cell;\n      cell.output_area.append_execute_result(NB_LOAD_WARNING)\n    }\n\n  }\n\n  if (root._bokeh_is_loading === 0) {\n    console.log(\"Bokeh: BokehJS loaded, going straight to plotting\");\n    run_inline_js();\n  } else {\n    load_libs(js_urls, function() {\n      console.log(\"Bokeh: BokehJS plotting callback run at\", now());\n      run_inline_js();\n    });\n  }\n}(window));"
     },
     "metadata": {},
     "output_type": "display_data"
    }
   ],
   "source": [
    "import numpy as np\n",
    "import pandas as pd\n",
    "import bokeh\n",
    "import bokeh.plotting as bkh\n",
    "bkh.output_notebook()"
   ]
  },
  {
   "cell_type": "code",
   "execution_count": 34,
   "metadata": {
    "slideshow": {
     "slide_type": "subslide"
    }
   },
   "outputs": [
    {
     "data": {
      "text/html": [
       "\n",
       "<div class=\"bk-root\">\n",
       "    <div class=\"bk-plotdiv\" id=\"4364e4bf-10d6-4e88-96ae-6974d9774da9\"></div>\n",
       "</div>"
      ]
     },
     "metadata": {},
     "output_type": "display_data"
    },
    {
     "data": {
      "application/javascript": [
       "(function(root) {\n",
       "  function embed_document(root) {\n",
       "    \n",
       "  var docs_json = {\"8f3330b8-5ca7-45bc-80e0-33f9e02c1fcf\":{\"roots\":{\"references\":[{\"attributes\":{\"callback\":null,\"column_names\":[\"size\",\"x\",\"y\"],\"data\":{\"size\":{\"__ndarray__\":\"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\",\"dtype\":\"float64\",\"shape\":[1000]},\"x\":{\"__ndarray__\":\"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\",\"dtype\":\"float64\",\"shape\":[1000]},\"y\":{\"__ndarray__\":\"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\",\"dtype\":\"float64\",\"shape\":[1000]}}},\"id\":\"79e949e2-82fe-4686-a5b3-55f82c408560\",\"type\":\"ColumnDataSource\"},{\"attributes\":{\"fill_alpha\":{\"value\":0.5},\"fill_color\":{\"value\":\"#1f77b4\"},\"line_alpha\":{\"value\":0.5},\"line_color\":{\"value\":\"#1f77b4\"},\"size\":{\"field\":\"size\",\"units\":\"screen\"},\"x\":{\"field\":\"x\"},\"y\":{\"field\":\"y\"}},\"id\":\"1eb5fcea-340e-4ff3-b94e-6bf4ec878f24\",\"type\":\"Circle\"},{\"attributes\":{\"active_drag\":\"auto\",\"active_inspect\":\"auto\",\"active_scroll\":\"auto\",\"active_tap\":\"auto\",\"tools\":[{\"id\":\"b5595d5a-4691-43bd-9119-6ffd1645d82c\",\"type\":\"PanTool\"},{\"id\":\"b2644af4-c2d1-4f25-99f7-4d6ebee64b48\",\"type\":\"WheelZoomTool\"},{\"id\":\"8bdec651-3229-4032-8215-e0de8f494de1\",\"type\":\"BoxZoomTool\"},{\"id\":\"5d8dea2d-fce7-4923-850f-af8fdb2cc7cd\",\"type\":\"SaveTool\"},{\"id\":\"db9659ac-35ee-4bc2-a2e1-1be517a0a812\",\"type\":\"ResetTool\"},{\"id\":\"f09b5472-8a7a-4953-ac57-64d92d9b0624\",\"type\":\"HelpTool\"}]},\"id\":\"4f84ae38-c5a1-4a8d-b897-2e7c9c1b7efe\",\"type\":\"Toolbar\"},{\"attributes\":{},\"id\":\"b5595d5a-4691-43bd-9119-6ffd1645d82c\",\"type\":\"PanTool\"},{\"attributes\":{\"callback\":null},\"id\":\"1dce7541-7cee-4f18-be44-224b3c57e518\",\"type\":\"DataRange1d\"},{\"attributes\":{},\"id\":\"5d8dea2d-fce7-4923-850f-af8fdb2cc7cd\",\"type\":\"SaveTool\"},{\"attributes\":{\"overlay\":{\"id\":\"7bdd9fe6-7d29-437f-a7b3-7d7842d60ada\",\"type\":\"BoxAnnotation\"}},\"id\":\"8bdec651-3229-4032-8215-e0de8f494de1\",\"type\":\"BoxZoomTool\"},{\"attributes\":{},\"id\":\"b2644af4-c2d1-4f25-99f7-4d6ebee64b48\",\"type\":\"WheelZoomTool\"},{\"attributes\":{\"callback\":null},\"id\":\"8e345c38-6e37-435a-9088-2cd9c36df7c7\",\"type\":\"DataRange1d\"},{\"attributes\":{},\"id\":\"24e9bcf1-1107-4625-9a14-d9abacc4a715\",\"type\":\"LinearScale\"},{\"attributes\":{},\"id\":\"db9659ac-35ee-4bc2-a2e1-1be517a0a812\",\"type\":\"ResetTool\"},{\"attributes\":{},\"id\":\"046014b0-841d-4425-a600-ce2d9078dc80\",\"type\":\"LinearScale\"},{\"attributes\":{},\"id\":\"f09b5472-8a7a-4953-ac57-64d92d9b0624\",\"type\":\"HelpTool\"},{\"attributes\":{},\"id\":\"7fba296b-eeae-4bd2-a349-e88330c91503\",\"type\":\"BasicTickFormatter\"},{\"attributes\":{\"bottom_units\":\"screen\",\"fill_alpha\":{\"value\":0.5},\"fill_color\":{\"value\":\"lightgrey\"},\"left_units\":\"screen\",\"level\":\"overlay\",\"line_alpha\":{\"value\":1.0},\"line_color\":{\"value\":\"black\"},\"line_dash\":[4,4],\"line_width\":{\"value\":2},\"plot\":null,\"render_mode\":\"css\",\"right_units\":\"screen\",\"top_units\":\"screen\"},\"id\":\"7bdd9fe6-7d29-437f-a7b3-7d7842d60ada\",\"type\":\"BoxAnnotation\"},{\"attributes\":{\"data_source\":{\"id\":\"79e949e2-82fe-4686-a5b3-55f82c408560\",\"type\":\"ColumnDataSource\"},\"glyph\":{\"id\":\"1eb5fcea-340e-4ff3-b94e-6bf4ec878f24\",\"type\":\"Circle\"},\"hover_glyph\":null,\"muted_glyph\":null,\"nonselection_glyph\":{\"id\":\"3d39ae0f-c9ae-41a7-bfc3-3858c46c9820\",\"type\":\"Circle\"},\"selection_glyph\":null,\"view\":{\"id\":\"8164fc14-98a4-462e-8675-c7dc63960f9e\",\"type\":\"CDSView\"}},\"id\":\"f9312a58-d6b7-48b1-9805-28119ee52668\",\"type\":\"GlyphRenderer\"},{\"attributes\":{\"source\":{\"id\":\"79e949e2-82fe-4686-a5b3-55f82c408560\",\"type\":\"ColumnDataSource\"}},\"id\":\"8164fc14-98a4-462e-8675-c7dc63960f9e\",\"type\":\"CDSView\"},{\"attributes\":{},\"id\":\"10029f13-a577-499c-9f90-aeb5bdced81e\",\"type\":\"BasicTickFormatter\"},{\"attributes\":{\"fill_alpha\":{\"value\":0.1},\"fill_color\":{\"value\":\"#1f77b4\"},\"line_alpha\":{\"value\":0.1},\"line_color\":{\"value\":\"#1f77b4\"},\"size\":{\"field\":\"size\",\"units\":\"screen\"},\"x\":{\"field\":\"x\"},\"y\":{\"field\":\"y\"}},\"id\":\"3d39ae0f-c9ae-41a7-bfc3-3858c46c9820\",\"type\":\"Circle\"},{\"attributes\":{\"formatter\":{\"id\":\"10029f13-a577-499c-9f90-aeb5bdced81e\",\"type\":\"BasicTickFormatter\"},\"plot\":{\"id\":\"eb7ba343-a6cb-4804-b123-040b5705078c\",\"subtype\":\"Figure\",\"type\":\"Plot\"},\"ticker\":{\"id\":\"7a5c1e05-7a69-4dbe-a0b7-80feeea28d78\",\"type\":\"BasicTicker\"}},\"id\":\"5ad79497-0aa6-472d-a8f9-31fbdabfc8b0\",\"type\":\"LinearAxis\"},{\"attributes\":{},\"id\":\"7a5c1e05-7a69-4dbe-a0b7-80feeea28d78\",\"type\":\"BasicTicker\"},{\"attributes\":{\"plot\":{\"id\":\"eb7ba343-a6cb-4804-b123-040b5705078c\",\"subtype\":\"Figure\",\"type\":\"Plot\"},\"ticker\":{\"id\":\"7a5c1e05-7a69-4dbe-a0b7-80feeea28d78\",\"type\":\"BasicTicker\"}},\"id\":\"d3963764-e935-4c5d-8c85-6a6123d9fcea\",\"type\":\"Grid\"},{\"attributes\":{\"formatter\":{\"id\":\"7fba296b-eeae-4bd2-a349-e88330c91503\",\"type\":\"BasicTickFormatter\"},\"plot\":{\"id\":\"eb7ba343-a6cb-4804-b123-040b5705078c\",\"subtype\":\"Figure\",\"type\":\"Plot\"},\"ticker\":{\"id\":\"69ebcd6e-8595-45f6-a7e2-b59d295fa3df\",\"type\":\"BasicTicker\"}},\"id\":\"91302428-18f3-433f-a04d-b79c3abe8386\",\"type\":\"LinearAxis\"},{\"attributes\":{},\"id\":\"69ebcd6e-8595-45f6-a7e2-b59d295fa3df\",\"type\":\"BasicTicker\"},{\"attributes\":{\"below\":[{\"id\":\"5ad79497-0aa6-472d-a8f9-31fbdabfc8b0\",\"type\":\"LinearAxis\"}],\"left\":[{\"id\":\"91302428-18f3-433f-a04d-b79c3abe8386\",\"type\":\"LinearAxis\"}],\"plot_height\":400,\"renderers\":[{\"id\":\"5ad79497-0aa6-472d-a8f9-31fbdabfc8b0\",\"type\":\"LinearAxis\"},{\"id\":\"d3963764-e935-4c5d-8c85-6a6123d9fcea\",\"type\":\"Grid\"},{\"id\":\"91302428-18f3-433f-a04d-b79c3abe8386\",\"type\":\"LinearAxis\"},{\"id\":\"18f7d329-ac02-482e-97d8-5fae37603598\",\"type\":\"Grid\"},{\"id\":\"7bdd9fe6-7d29-437f-a7b3-7d7842d60ada\",\"type\":\"BoxAnnotation\"},{\"id\":\"f9312a58-d6b7-48b1-9805-28119ee52668\",\"type\":\"GlyphRenderer\"}],\"title\":{\"id\":\"112de977-55ca-4650-8ba4-307c61234cb3\",\"type\":\"Title\"},\"toolbar\":{\"id\":\"4f84ae38-c5a1-4a8d-b897-2e7c9c1b7efe\",\"type\":\"Toolbar\"},\"x_range\":{\"id\":\"1dce7541-7cee-4f18-be44-224b3c57e518\",\"type\":\"DataRange1d\"},\"x_scale\":{\"id\":\"24e9bcf1-1107-4625-9a14-d9abacc4a715\",\"type\":\"LinearScale\"},\"y_range\":{\"id\":\"8e345c38-6e37-435a-9088-2cd9c36df7c7\",\"type\":\"DataRange1d\"},\"y_scale\":{\"id\":\"046014b0-841d-4425-a600-ce2d9078dc80\",\"type\":\"LinearScale\"}},\"id\":\"eb7ba343-a6cb-4804-b123-040b5705078c\",\"subtype\":\"Figure\",\"type\":\"Plot\"},{\"attributes\":{\"dimension\":1,\"plot\":{\"id\":\"eb7ba343-a6cb-4804-b123-040b5705078c\",\"subtype\":\"Figure\",\"type\":\"Plot\"},\"ticker\":{\"id\":\"69ebcd6e-8595-45f6-a7e2-b59d295fa3df\",\"type\":\"BasicTicker\"}},\"id\":\"18f7d329-ac02-482e-97d8-5fae37603598\",\"type\":\"Grid\"},{\"attributes\":{\"plot\":null,\"text\":\"\"},\"id\":\"112de977-55ca-4650-8ba4-307c61234cb3\",\"type\":\"Title\"}],\"root_ids\":[\"eb7ba343-a6cb-4804-b123-040b5705078c\"]},\"title\":\"Bokeh Application\",\"version\":\"0.12.14\"}};\n",
       "  var render_items = [{\"docid\":\"8f3330b8-5ca7-45bc-80e0-33f9e02c1fcf\",\"elementid\":\"4364e4bf-10d6-4e88-96ae-6974d9774da9\",\"modelid\":\"eb7ba343-a6cb-4804-b123-040b5705078c\"}];\n",
       "  root.Bokeh.embed.embed_items_notebook(docs_json, render_items);\n",
       "\n",
       "  }\n",
       "  if (root.Bokeh !== undefined) {\n",
       "    embed_document(root);\n",
       "  } else {\n",
       "    var attempts = 0;\n",
       "    var timer = setInterval(function(root) {\n",
       "      if (root.Bokeh !== undefined) {\n",
       "        embed_document(root);\n",
       "        clearInterval(timer);\n",
       "      }\n",
       "      attempts++;\n",
       "      if (attempts > 100) {\n",
       "        console.log(\"Bokeh: ERROR: Unable to run BokehJS code because BokehJS library is missing\")\n",
       "        clearInterval(timer);\n",
       "      }\n",
       "    }, 10, root)\n",
       "  }\n",
       "})(window);"
      ],
      "application/vnd.bokehjs_exec.v0+json": ""
     },
     "metadata": {
      "application/vnd.bokehjs_exec.v0+json": {
       "id": "eb7ba343-a6cb-4804-b123-040b5705078c"
      }
     },
     "output_type": "display_data"
    }
   ],
   "source": [
    "f = bkh.figure(width=600, height=400)\n",
    "f.circle(np.random.randn(1000),\n",
    "         np.random.randn(1000), \n",
    "         size=np.random.uniform(2, 10, 1000),\n",
    "         alpha=.5)\n",
    "bkh.show(f)"
   ]
  },
  {
   "cell_type": "code",
   "execution_count": 35,
   "metadata": {
    "slideshow": {
     "slide_type": "subslide"
    }
   },
   "outputs": [
    {
     "data": {
      "application/vnd.jupyter.widget-view+json": {
       "model_id": "77e79218967d40c78f5e33b7afc112fb",
       "version_major": 2,
       "version_minor": 0
      },
      "text/html": [
       "<p>Failed to display Jupyter Widget of type <code>Map</code>.</p>\n",
       "<p>\n",
       "  If you're reading this message in the Jupyter Notebook or JupyterLab Notebook, it may mean\n",
       "  that the widgets JavaScript is still loading. If this message persists, it\n",
       "  likely means that the widgets JavaScript library is either not installed or\n",
       "  not enabled. See the <a href=\"https://ipywidgets.readthedocs.io/en/stable/user_install.html\">Jupyter\n",
       "  Widgets Documentation</a> for setup instructions.\n",
       "</p>\n",
       "<p>\n",
       "  If you're reading this message in another frontend (for example, a static\n",
       "  rendering on GitHub or <a href=\"https://nbviewer.jupyter.org/\">NBViewer</a>),\n",
       "  it may mean that your frontend doesn't currently support widgets.\n",
       "</p>\n"
      ],
      "text/plain": [
       "Map(basemap={'url': 'https://{s}.tile.openstreetmap.org/{z}/{x}/{y}.png', 'max_zoom': 19, 'attribution': 'Map data (c) <a href=\"https://openstreetmap.org\">OpenStreetMap</a> contributors'}, center=[32.08, 34.8], layers=(TileLayer(base=True, max_zoom=19, min_zoom=1, options=['attribution', 'detect_retina', 'max_zoom', 'min_zoom', 'tile_size']), Marker(location=[32.08, 34.8], options=['alt', 'clickable', 'draggable', 'keyboard', 'rise_offset', 'rise_on_hover', 'title', 'z_index_offset'], rise_on_hover=True, title='Here I am!')), options=['attribution_control', 'basemap', 'bounce_at_zoom_limits', 'box_zoom', 'center', 'close_popup_on_click', 'double_click_zoom', 'dragging', 'inertia', 'inertia_deceleration', 'inertia_max_speed', 'keyboard', 'keyboard_pan_offset', 'keyboard_zoom_offset', 'max_zoom', 'min_zoom', 'scroll_wheel_zoom', 'tap', 'tap_tolerance', 'touch_zoom', 'world_copy_jump', 'zoom', 'zoom_animation_threshold', 'zoom_control', 'zoom_start'], zoom=17)"
      ]
     },
     "metadata": {},
     "output_type": "display_data"
    }
   ],
   "source": [
    "from ipyleaflet import Map, Marker\n",
    "\n",
    "pos = [32.08, 34.8]\n",
    "m = Map(center=pos, zoom=17)\n",
    "marker = Marker(location=pos,\n",
    "                rise_on_hover=True,\n",
    "                title=\"Here I am!\",\n",
    "                )\n",
    "m += marker\n",
    "m"
   ]
  },
  {
   "cell_type": "markdown",
   "metadata": {
    "slideshow": {
     "slide_type": "slide"
    }
   },
   "source": [
    "## More widgets, please"
   ]
  },
  {
   "cell_type": "code",
   "execution_count": 36,
   "metadata": {
    "slideshow": {
     "slide_type": "fragment"
    }
   },
   "outputs": [],
   "source": [
    "import ipywidgets as widgets\n",
    "from ipywidgets import HBox, VBox\n",
    "import numpy as np\n",
    "import matplotlib.pyplot as plt\n",
    "from IPython.display import display\n",
    "%matplotlib inline"
   ]
  },
  {
   "cell_type": "code",
   "execution_count": 37,
   "metadata": {
    "slideshow": {
     "slide_type": "subslide"
    }
   },
   "outputs": [
    {
     "data": {
      "application/vnd.jupyter.widget-view+json": {
       "model_id": "cdc085bdf38b410b8b3029ebb855eceb",
       "version_major": 2,
       "version_minor": 0
      },
      "text/html": [
       "<p>Failed to display Jupyter Widget of type <code>interactive</code>.</p>\n",
       "<p>\n",
       "  If you're reading this message in the Jupyter Notebook or JupyterLab Notebook, it may mean\n",
       "  that the widgets JavaScript is still loading. If this message persists, it\n",
       "  likely means that the widgets JavaScript library is either not installed or\n",
       "  not enabled. See the <a href=\"https://ipywidgets.readthedocs.io/en/stable/user_install.html\">Jupyter\n",
       "  Widgets Documentation</a> for setup instructions.\n",
       "</p>\n",
       "<p>\n",
       "  If you're reading this message in another frontend (for example, a static\n",
       "  rendering on GitHub or <a href=\"https://nbviewer.jupyter.org/\">NBViewer</a>),\n",
       "  it may mean that your frontend doesn't currently support widgets.\n",
       "</p>\n"
      ],
      "text/plain": [
       "interactive(children=(IntSlider(value=5, description='x', max=15, min=-5), Output()), _dom_classes=('widget-interact',))"
      ]
     },
     "metadata": {},
     "output_type": "display_data"
    }
   ],
   "source": [
    "@widgets.interact\n",
    "def f(x=5):\n",
    "    print(x)"
   ]
  },
  {
   "cell_type": "code",
   "execution_count": 38,
   "metadata": {
    "slideshow": {
     "slide_type": "fragment"
    }
   },
   "outputs": [
    {
     "data": {
      "application/vnd.jupyter.widget-view+json": {
       "model_id": "865ba059b1064cf8b7be6dbb47cbd933",
       "version_major": 2,
       "version_minor": 0
      },
      "text/html": [
       "<p>Failed to display Jupyter Widget of type <code>interactive</code>.</p>\n",
       "<p>\n",
       "  If you're reading this message in the Jupyter Notebook or JupyterLab Notebook, it may mean\n",
       "  that the widgets JavaScript is still loading. If this message persists, it\n",
       "  likely means that the widgets JavaScript library is either not installed or\n",
       "  not enabled. See the <a href=\"https://ipywidgets.readthedocs.io/en/stable/user_install.html\">Jupyter\n",
       "  Widgets Documentation</a> for setup instructions.\n",
       "</p>\n",
       "<p>\n",
       "  If you're reading this message in another frontend (for example, a static\n",
       "  rendering on GitHub or <a href=\"https://nbviewer.jupyter.org/\">NBViewer</a>),\n",
       "  it may mean that your frontend doesn't currently support widgets.\n",
       "</p>\n"
      ],
      "text/plain": [
       "interactive(children=(IntSlider(value=5, description='x', max=5), Output()), _dom_classes=('widget-interact',))"
      ]
     },
     "metadata": {},
     "output_type": "display_data"
    }
   ],
   "source": [
    "@widgets.interact(x=(0, 5))\n",
    "def f(x=5):\n",
    "    print(x)"
   ]
  },
  {
   "cell_type": "code",
   "execution_count": 41,
   "metadata": {
    "slideshow": {
     "slide_type": "subslide"
    }
   },
   "outputs": [
    {
     "data": {
      "application/vnd.jupyter.widget-view+json": {
       "model_id": "dff28dc57b834156b22e49b3d2408363",
       "version_major": 2,
       "version_minor": 0
      },
      "text/html": [
       "<p>Failed to display Jupyter Widget of type <code>interactive</code>.</p>\n",
       "<p>\n",
       "  If you're reading this message in the Jupyter Notebook or JupyterLab Notebook, it may mean\n",
       "  that the widgets JavaScript is still loading. If this message persists, it\n",
       "  likely means that the widgets JavaScript library is either not installed or\n",
       "  not enabled. See the <a href=\"https://ipywidgets.readthedocs.io/en/stable/user_install.html\">Jupyter\n",
       "  Widgets Documentation</a> for setup instructions.\n",
       "</p>\n",
       "<p>\n",
       "  If you're reading this message in another frontend (for example, a static\n",
       "  rendering on GitHub or <a href=\"https://nbviewer.jupyter.org/\">NBViewer</a>),\n",
       "  it may mean that your frontend doesn't currently support widgets.\n",
       "</p>\n"
      ],
      "text/plain": [
       "interactive(children=(FloatSlider(value=1.0, description='freq', max=3.0, min=-1.0), Dropdown(description='color', options=('blue', 'red', 'green'), value='blue'), FloatSlider(value=2.0, description='lw', max=10.0, min=1.0), Checkbox(value=True, description='grid'), Button(description='Run Interact', style=ButtonStyle()), Output()), _dom_classes=('widget-interact',))"
      ]
     },
     "metadata": {},
     "output_type": "display_data"
    }
   ],
   "source": [
    "@widgets.interact_manual(\n",
    "    color=['blue', 'red', 'green'], lw=(1., 10.))\n",
    "# @widgets.interact\n",
    "def plot(freq=1., color='blue', lw=2, grid=True):\n",
    "    t = np.linspace(-1., +1., 1000)\n",
    "    fig, ax = plt.subplots(1, 1, figsize=(8, 6))\n",
    "    ax.plot(t, np.sin(2 * np.pi * freq * t),\n",
    "            lw=lw, color=color)\n",
    "    ax.grid(grid)"
   ]
  },
  {
   "cell_type": "code",
   "execution_count": 42,
   "metadata": {
    "slideshow": {
     "slide_type": "subslide"
    }
   },
   "outputs": [
    {
     "data": {
      "application/vnd.jupyter.widget-view+json": {
       "model_id": "a196227b62c74a3681fb93ecbe41ac8c",
       "version_major": 2,
       "version_minor": 0
      },
      "text/html": [
       "<p>Failed to display Jupyter Widget of type <code>FloatSlider</code>.</p>\n",
       "<p>\n",
       "  If you're reading this message in the Jupyter Notebook or JupyterLab Notebook, it may mean\n",
       "  that the widgets JavaScript is still loading. If this message persists, it\n",
       "  likely means that the widgets JavaScript library is either not installed or\n",
       "  not enabled. See the <a href=\"https://ipywidgets.readthedocs.io/en/stable/user_install.html\">Jupyter\n",
       "  Widgets Documentation</a> for setup instructions.\n",
       "</p>\n",
       "<p>\n",
       "  If you're reading this message in another frontend (for example, a static\n",
       "  rendering on GitHub or <a href=\"https://nbviewer.jupyter.org/\">NBViewer</a>),\n",
       "  it may mean that your frontend doesn't currently support widgets.\n",
       "</p>\n"
      ],
      "text/plain": [
       "FloatSlider(value=2.0, description='Frequency:', max=10.0, min=1.0, readout_format='.1f')"
      ]
     },
     "metadata": {},
     "output_type": "display_data"
    }
   ],
   "source": [
    "freq_slider = widgets.FloatSlider(\n",
    "    value=2.,\n",
    "    min=1.,\n",
    "    max=10.0,\n",
    "    step=0.1,\n",
    "    description='Frequency:',\n",
    "    readout_format='.1f',\n",
    ")\n",
    "freq_slider"
   ]
  },
  {
   "cell_type": "code",
   "execution_count": 43,
   "metadata": {
    "slideshow": {
     "slide_type": "subslide"
    }
   },
   "outputs": [
    {
     "data": {
      "application/vnd.jupyter.widget-view+json": {
       "model_id": "1393d1c9c38a4a8bb7899d89c88132b3",
       "version_major": 2,
       "version_minor": 0
      },
      "text/html": [
       "<p>Failed to display Jupyter Widget of type <code>FloatRangeSlider</code>.</p>\n",
       "<p>\n",
       "  If you're reading this message in the Jupyter Notebook or JupyterLab Notebook, it may mean\n",
       "  that the widgets JavaScript is still loading. If this message persists, it\n",
       "  likely means that the widgets JavaScript library is either not installed or\n",
       "  not enabled. See the <a href=\"https://ipywidgets.readthedocs.io/en/stable/user_install.html\">Jupyter\n",
       "  Widgets Documentation</a> for setup instructions.\n",
       "</p>\n",
       "<p>\n",
       "  If you're reading this message in another frontend (for example, a static\n",
       "  rendering on GitHub or <a href=\"https://nbviewer.jupyter.org/\">NBViewer</a>),\n",
       "  it may mean that your frontend doesn't currently support widgets.\n",
       "</p>\n"
      ],
      "text/plain": [
       "FloatRangeSlider(value=(-1.0, 1.0), description='xlim:', max=5.0, min=-5.0, readout_format='.1f')"
      ]
     },
     "metadata": {},
     "output_type": "display_data"
    }
   ],
   "source": [
    "range_slider = widgets.FloatRangeSlider(\n",
    "    value=[-1., +1.],\n",
    "    min=-5., max=+5., step=0.1,\n",
    "    description='xlim:',\n",
    "    readout_format='.1f',\n",
    ")\n",
    "range_slider"
   ]
  },
  {
   "cell_type": "code",
   "execution_count": 44,
   "metadata": {
    "slideshow": {
     "slide_type": "subslide"
    }
   },
   "outputs": [
    {
     "data": {
      "application/vnd.jupyter.widget-view+json": {
       "model_id": "82db2f3afe1840ed89487f53133932b6",
       "version_major": 2,
       "version_minor": 0
      },
      "text/html": [
       "<p>Failed to display Jupyter Widget of type <code>ToggleButton</code>.</p>\n",
       "<p>\n",
       "  If you're reading this message in the Jupyter Notebook or JupyterLab Notebook, it may mean\n",
       "  that the widgets JavaScript is still loading. If this message persists, it\n",
       "  likely means that the widgets JavaScript library is either not installed or\n",
       "  not enabled. See the <a href=\"https://ipywidgets.readthedocs.io/en/stable/user_install.html\">Jupyter\n",
       "  Widgets Documentation</a> for setup instructions.\n",
       "</p>\n",
       "<p>\n",
       "  If you're reading this message in another frontend (for example, a static\n",
       "  rendering on GitHub or <a href=\"https://nbviewer.jupyter.org/\">NBViewer</a>),\n",
       "  it may mean that your frontend doesn't currently support widgets.\n",
       "</p>\n"
      ],
      "text/plain": [
       "ToggleButton(value=False, description='Grid', icon='check')"
      ]
     },
     "metadata": {},
     "output_type": "display_data"
    }
   ],
   "source": [
    "grid_button = widgets.ToggleButton(\n",
    "    value=False,\n",
    "    description='Grid',\n",
    "    icon='check'\n",
    ")\n",
    "grid_button"
   ]
  },
  {
   "cell_type": "code",
   "execution_count": 45,
   "metadata": {
    "slideshow": {
     "slide_type": "subslide"
    }
   },
   "outputs": [
    {
     "data": {
      "application/vnd.jupyter.widget-view+json": {
       "model_id": "b6ef129d40bb45a39de77ec1685103d3",
       "version_major": 2,
       "version_minor": 0
      },
      "text/html": [
       "<p>Failed to display Jupyter Widget of type <code>ToggleButtons</code>.</p>\n",
       "<p>\n",
       "  If you're reading this message in the Jupyter Notebook or JupyterLab Notebook, it may mean\n",
       "  that the widgets JavaScript is still loading. If this message persists, it\n",
       "  likely means that the widgets JavaScript library is either not installed or\n",
       "  not enabled. See the <a href=\"https://ipywidgets.readthedocs.io/en/stable/user_install.html\">Jupyter\n",
       "  Widgets Documentation</a> for setup instructions.\n",
       "</p>\n",
       "<p>\n",
       "  If you're reading this message in another frontend (for example, a static\n",
       "  rendering on GitHub or <a href=\"https://nbviewer.jupyter.org/\">NBViewer</a>),\n",
       "  it may mean that your frontend doesn't currently support widgets.\n",
       "</p>\n"
      ],
      "text/plain": [
       "ToggleButtons(description='Color:', options=('blue', 'red', 'green'), value='blue')"
      ]
     },
     "metadata": {},
     "output_type": "display_data"
    }
   ],
   "source": [
    "color_buttons = widgets.ToggleButtons(\n",
    "    options=['blue', 'red', 'green'],\n",
    "    description='Color:',\n",
    ")\n",
    "color_buttons"
   ]
  },
  {
   "cell_type": "code",
   "execution_count": 46,
   "metadata": {
    "slideshow": {
     "slide_type": "subslide"
    }
   },
   "outputs": [
    {
     "data": {
      "application/vnd.jupyter.widget-view+json": {
       "model_id": "f7918049ead747608b3e44d43d88cc88",
       "version_major": 2,
       "version_minor": 0
      },
      "text/html": [
       "<p>Failed to display Jupyter Widget of type <code>Text</code>.</p>\n",
       "<p>\n",
       "  If you're reading this message in the Jupyter Notebook or JupyterLab Notebook, it may mean\n",
       "  that the widgets JavaScript is still loading. If this message persists, it\n",
       "  likely means that the widgets JavaScript library is either not installed or\n",
       "  not enabled. See the <a href=\"https://ipywidgets.readthedocs.io/en/stable/user_install.html\">Jupyter\n",
       "  Widgets Documentation</a> for setup instructions.\n",
       "</p>\n",
       "<p>\n",
       "  If you're reading this message in another frontend (for example, a static\n",
       "  rendering on GitHub or <a href=\"https://nbviewer.jupyter.org/\">NBViewer</a>),\n",
       "  it may mean that your frontend doesn't currently support widgets.\n",
       "</p>\n"
      ],
      "text/plain": [
       "Text(value='Hello World', description='Title:')"
      ]
     },
     "metadata": {},
     "output_type": "display_data"
    }
   ],
   "source": [
    "title_textbox = widgets.Text(\n",
    "    value='Hello World',\n",
    "    description='Title:',\n",
    ")\n",
    "title_textbox"
   ]
  },
  {
   "cell_type": "code",
   "execution_count": 47,
   "metadata": {
    "slideshow": {
     "slide_type": "subslide"
    }
   },
   "outputs": [
    {
     "data": {
      "application/vnd.jupyter.widget-view+json": {
       "model_id": "1fb2ef921a2940e393939122e1835a69",
       "version_major": 2,
       "version_minor": 0
      },
      "text/html": [
       "<p>Failed to display Jupyter Widget of type <code>ColorPicker</code>.</p>\n",
       "<p>\n",
       "  If you're reading this message in the Jupyter Notebook or JupyterLab Notebook, it may mean\n",
       "  that the widgets JavaScript is still loading. If this message persists, it\n",
       "  likely means that the widgets JavaScript library is either not installed or\n",
       "  not enabled. See the <a href=\"https://ipywidgets.readthedocs.io/en/stable/user_install.html\">Jupyter\n",
       "  Widgets Documentation</a> for setup instructions.\n",
       "</p>\n",
       "<p>\n",
       "  If you're reading this message in another frontend (for example, a static\n",
       "  rendering on GitHub or <a href=\"https://nbviewer.jupyter.org/\">NBViewer</a>),\n",
       "  it may mean that your frontend doesn't currently support widgets.\n",
       "</p>\n"
      ],
      "text/plain": [
       "ColorPicker(value='#efefef', concise=True, description='Background color:')"
      ]
     },
     "metadata": {},
     "output_type": "display_data"
    }
   ],
   "source": [
    "color_picker = widgets.ColorPicker(\n",
    "    concise=True,\n",
    "    description='Background color:',\n",
    "    value='#efefef',\n",
    ")\n",
    "color_picker"
   ]
  },
  {
   "cell_type": "code",
   "execution_count": 48,
   "metadata": {
    "scrolled": true,
    "slideshow": {
     "slide_type": "subslide"
    }
   },
   "outputs": [
    {
     "data": {
      "application/vnd.jupyter.widget-view+json": {
       "model_id": "1cb5522941264736bfad1ddd0fee6f6b",
       "version_major": 2,
       "version_minor": 0
      },
      "text/html": [
       "<p>Failed to display Jupyter Widget of type <code>Button</code>.</p>\n",
       "<p>\n",
       "  If you're reading this message in the Jupyter Notebook or JupyterLab Notebook, it may mean\n",
       "  that the widgets JavaScript is still loading. If this message persists, it\n",
       "  likely means that the widgets JavaScript library is either not installed or\n",
       "  not enabled. See the <a href=\"https://ipywidgets.readthedocs.io/en/stable/user_install.html\">Jupyter\n",
       "  Widgets Documentation</a> for setup instructions.\n",
       "</p>\n",
       "<p>\n",
       "  If you're reading this message in another frontend (for example, a static\n",
       "  rendering on GitHub or <a href=\"https://nbviewer.jupyter.org/\">NBViewer</a>),\n",
       "  it may mean that your frontend doesn't currently support widgets.\n",
       "</p>\n"
      ],
      "text/plain": [
       "Button(description='Plot', style=ButtonStyle())"
      ]
     },
     "metadata": {},
     "output_type": "display_data"
    }
   ],
   "source": [
    "button = widgets.Button(\n",
    "    description='Plot',\n",
    ")\n",
    "button"
   ]
  },
  {
   "cell_type": "code",
   "execution_count": 49,
   "metadata": {
    "slideshow": {
     "slide_type": "fragment"
    }
   },
   "outputs": [],
   "source": [
    "def plot2(b=None):\n",
    "    xlim = range_slider.value\n",
    "    freq = freq_slider.value\n",
    "    grid = grid_button.value\n",
    "    color = color_buttons.value\n",
    "    title = title_textbox.value\n",
    "    bgcolor = color_picker.value\n",
    "\n",
    "    t = np.linspace(xlim[0], xlim[1], 1000)\n",
    "    f, ax = plt.subplots(1, 1, figsize=(8, 6))\n",
    "    ax.set_title(title)\n",
    "    ax.set_facecolor(bgcolor)\n",
    "    ax.plot(t, np.sin(2 * np.pi * freq * t), \n",
    "            color=color)\n",
    "    ax.grid(grid)"
   ]
  },
  {
   "cell_type": "code",
   "execution_count": 50,
   "metadata": {
    "slideshow": {
     "slide_type": "fragment"
    }
   },
   "outputs": [],
   "source": [
    "@button.on_click\n",
    "def plot_on_click(b):\n",
    "    plot2()"
   ]
  },
  {
   "cell_type": "markdown",
   "metadata": {
    "slideshow": {
     "slide_type": "subslide"
    }
   },
   "source": [
    "## Let's bring it all together"
   ]
  },
  {
   "cell_type": "code",
   "execution_count": 51,
   "metadata": {
    "slideshow": {
     "slide_type": "subslide"
    }
   },
   "outputs": [],
   "source": [
    "tab1 = VBox(children=[freq_slider,\n",
    "                      range_slider,\n",
    "                      ])\n",
    "tab2 = VBox(children=[color_buttons,\n",
    "                      HBox(children=[title_textbox,\n",
    "                                     color_picker,\n",
    "                                     grid_button]),\n",
    "                                     ])"
   ]
  },
  {
   "cell_type": "code",
   "execution_count": 52,
   "metadata": {
    "slideshow": {
     "slide_type": "subslide"
    }
   },
   "outputs": [
    {
     "data": {
      "application/vnd.jupyter.widget-view+json": {
       "model_id": "8d698ca4bb674378a0c636ec98b1a349",
       "version_major": 2,
       "version_minor": 0
      },
      "text/html": [
       "<p>Failed to display Jupyter Widget of type <code>VBox</code>.</p>\n",
       "<p>\n",
       "  If you're reading this message in the Jupyter Notebook or JupyterLab Notebook, it may mean\n",
       "  that the widgets JavaScript is still loading. If this message persists, it\n",
       "  likely means that the widgets JavaScript library is either not installed or\n",
       "  not enabled. See the <a href=\"https://ipywidgets.readthedocs.io/en/stable/user_install.html\">Jupyter\n",
       "  Widgets Documentation</a> for setup instructions.\n",
       "</p>\n",
       "<p>\n",
       "  If you're reading this message in another frontend (for example, a static\n",
       "  rendering on GitHub or <a href=\"https://nbviewer.jupyter.org/\">NBViewer</a>),\n",
       "  it may mean that your frontend doesn't currently support widgets.\n",
       "</p>\n"
      ],
      "text/plain": [
       "VBox(children=(Tab(children=(VBox(children=(FloatSlider(value=2.0, description='Frequency:', max=10.0, min=1.0, readout_format='.1f'), FloatRangeSlider(value=(-2.2, 1.4), description='xlim:', max=5.0, min=-5.0, readout_format='.1f'))), VBox(children=(ToggleButtons(description='Color:', options=('blue', 'red', 'green'), value='blue'), HBox(children=(Text(value='Hello World', description='Title:'), ColorPicker(value='#efefef', concise=True, description='Background color:'), ToggleButton(value=False, description='Grid', icon='check')))))), _titles={'0': 'plot', '1': 'styling'}), Button(description='Plot', style=ButtonStyle())))"
      ]
     },
     "metadata": {},
     "output_type": "display_data"
    },
    {
     "data": {
      "image/png": "[encoded data removed]",
      "text/plain": [
       "<Figure size 576x432 with 1 Axes>"
      ]
     },
     "metadata": {},
     "output_type": "display_data"
    }
   ],
   "source": [
    "tab = widgets.Tab(children=[tab1, tab2])\n",
    "tab.set_title(0, 'plot')\n",
    "tab.set_title(1, 'styling')\n",
    "VBox(children=[tab, button])"
   ]
  },
  {
   "cell_type": "markdown",
   "metadata": {
    "slideshow": {
     "slide_type": "subslide"
    }
   },
   "source": [
    "### We can even define new widgets in-line"
   ]
  },
  {
   "cell_type": "code",
   "execution_count": null,
   "metadata": {
    "slideshow": {
     "slide_type": "fragment"
    }
   },
   "outputs": [],
   "source": [
    "import ipywidgets as widgets\n",
    "from traitlets import Unicode, Int, validate"
   ]
  },
  {
   "cell_type": "code",
   "execution_count": null,
   "metadata": {
    "slideshow": {
     "slide_type": "fragment"
    }
   },
   "outputs": [],
   "source": [
    "class CounterWidget(widgets.DOMWidget):\n",
    "    _view_name = Unicode('CounterView').tag(sync=True)\n",
    "    _view_module = Unicode('counter').tag(sync=True)\n",
    "    value = Int(0).tag(sync=True)"
   ]
  },
  {
   "cell_type": "code",
   "execution_count": null,
   "metadata": {
    "slideshow": {
     "slide_type": "subslide"
    }
   },
   "outputs": [],
   "source": [
    "%%javascript\n",
    "// We make sure the `counter` module is defined\n",
    "// only once.\n",
    "require.undef('counter');\n",
    "\n",
    "// We define the `counter` module depending on the\n",
    "// Jupyter widgets framework.\n",
    "define('counter', [\"@jupyter-widgets/base\"],\n",
    "       function(widgets) {\n",
    "\n",
    "    // We create the CounterView frontend class,\n",
    "    // deriving from DOMWidgetView.\n",
    "    var CounterView = widgets.DOMWidgetView.extend({\n",
    "\n",
    "        // This method creates the HTML widget.\n",
    "        render: function() {\n",
    "            // The value_changed() method should be\n",
    "            // called when the model's value changes\n",
    "            // on the kernel side.\n",
    "            this.value_changed();\n",
    "            this.model.on('change:value',\n",
    "                          this.value_changed, this);\n",
    "\n",
    "            var model = this.model;\n",
    "            var that = this;\n",
    "\n",
    "            // We create the plus and minus buttons.\n",
    "            this.bm = $('<button/>')\n",
    "            .text('-')\n",
    "            .click(function() {\n",
    "                // When the button is clicked,\n",
    "                // the model's value is updated.\n",
    "                var x = model.get('value');\n",
    "                model.set('value', x - 1);\n",
    "                that.touch();\n",
    "            });\n",
    "\n",
    "            this.bp = $('<button/>')\n",
    "            .text('+')\n",
    "            .click(function() {\n",
    "                var x = model.get('value');\n",
    "                model.set('value', x + 1);\n",
    "                that.touch();\n",
    "            });\n",
    "\n",
    "            // This element displays the current\n",
    "            // value of the counter.\n",
    "            this.span = $('<span />')\n",
    "            .text('0')\n",
    "            .css({marginLeft: '10px',\n",
    "                  marginRight: '10px'});\n",
    "\n",
    "            // this.el represents the widget's DOM\n",
    "            // element. We add the minus button,\n",
    "            // the span element, and the plus button.\n",
    "            $(this.el)\n",
    "            .append(this.bm)\n",
    "            .append(this.span)\n",
    "            .append(this.bp);\n",
    "        },\n",
    "\n",
    "        value_changed: function() {\n",
    "            // Update the displayed number when the\n",
    "            // counter's value changes.\n",
    "            var x = this.model.get('value');\n",
    "            $($(this.el).children()[1]).text(x);\n",
    "        },\n",
    "    });\n",
    "\n",
    "    return {\n",
    "        CounterView : CounterView\n",
    "    };\n",
    "});"
   ]
  },
  {
   "cell_type": "code",
   "execution_count": null,
   "metadata": {
    "slideshow": {
     "slide_type": "subslide"
    }
   },
   "outputs": [],
   "source": [
    "w = CounterWidget()\n",
    "w"
   ]
  },
  {
   "cell_type": "code",
   "execution_count": null,
   "metadata": {
    "slideshow": {
     "slide_type": "fragment"
    }
   },
   "outputs": [],
   "source": [
    "print(w.value)"
   ]
  }
 ],
 "metadata": {
  "celltoolbar": "Slideshow",
  "kernelspec": {
   "display_name": "Python 3",
   "language": "python",
   "name": "python3"
  },
  "language_info": {
   "codemirror_mode": {
    "name": "ipython",
    "version": 3
   },
   "file_extension": ".py",
   "mimetype": "text/x-python",
   "name": "python",
   "nbconvert_exporter": "python",
   "pygments_lexer": "ipython3",
   "version": "3.6.4"
  },
  "livereveal": {
   "scroll": true,
   "theme": "serif"
  }
 },
 "nbformat": 4,
 "nbformat_minor": 2
}
